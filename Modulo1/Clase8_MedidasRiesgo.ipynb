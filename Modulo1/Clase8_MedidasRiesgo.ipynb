{
 "cells": [
  {
   "cell_type": "markdown",
   "metadata": {},
   "source": [
    "# Medidas de riesgo\n",
    "\n",
    "<img style=\"float: right; margin: 0px 0px 15px 15px;\" src=\"http://www.thebluediamondgallery.com/wooden-tile/images/risk.jpg\" width=\"450px\" height=\"150px\" />\n",
    "\n",
    "> La cuantificación del riesgo en inversiones ha sido una de las preocupaciones centrales de los investigadores y operadores en finanzas. No sólo por la necesidad cada vez más creciente de responder a la normatividad emanada de las entidades reguladoras nacionales e internacionales, sino también y primordialmente para mejorar continuamente los procesos de toma de decisiones de inversión.\n",
    "\n",
    "Referencias:\n",
    "- www.risklab.es/es/seminarios/pasados/septiembre2005.pdf\n",
    "- www.emagister.com/uploads_user_home/Comunidad_Emagister_5840_valor.pdf\n",
    "- repositorio.uchile.cl/bitstream/handle/2250/127411/149%20Medidas_de_Riesgo_Financiero_Rafael_Romero_M.pdf"
   ]
  },
  {
   "cell_type": "markdown",
   "metadata": {},
   "source": [
    "## 0. Introducción y apuntes históricos\n",
    "\n",
    "Existen en el mundo factores fundamentales que han contribuido al desarrollo de la gestión, medición, y el control del riesgo financiero:\n",
    "\n",
    "- Alto nivel de inestabilidad económica en los mercados.\n",
    " - Fundamentalmente la volatilidad se ve reflejada, en los siguientes factores: La volatilidad de los mercados accionarios, la volatilidad de la tasa de cambio, la volatilidad de la tasa de interés y la volatilidad de los precios en el mercado de los commodities."
   ]
  },
  {
   "cell_type": "markdown",
   "metadata": {},
   "source": [
    "- Crecimiento de las actividades de negociación. \n",
    " - Durante los últimos años, tanto el número de activos negociados como el volumen de éstos, ha tenido un incremento considerable a nivel mundial. Se ha evolucionado considerablemente en el desarrollo de numerosos tipos de instrumentos, los cuales han facilitado las transacciones sobre activos previamente ilíquidos. Los mercados de derivados financieros como las opciones, futuros, forwards y swaps, han tenido un crecimiento notable a partir de los años 70, cuando hubo un importante desarrollo de sus aspectos teóricos, liderado por autores como Robert Merton, Fisher Black, Myron Scholes."
   ]
  },
  {
   "cell_type": "markdown",
   "metadata": {},
   "source": [
    "- Avances en la tecnología.\n",
    " - Mejor poder computacional, mejores técnicas computacionales. Se ha avanzado en la cultura de la información, ya que las empresas han comenzado a tomar conciencia acerca de la importancia de tener bases de datos, esenciales para un posterior análisis del riesgo. Estos avances tecnológicos permiten obtener, de forma rápida, información fundamental para la toma de decisiones de inversión.\n",
    "___"
   ]
  },
  {
   "cell_type": "markdown",
   "metadata": {},
   "source": [
    "### Conceptos básicos relativos al riesgo\n",
    "\n",
    "- Etimológicamente la palabra riesgo deriva del italiano risico o rischio, y éste a la vez del árabe risq, que significa ”lo que depara la providencia”. \n",
    "\n",
    "- La palabra riesgo puede entenderse como la contingencia o proximidad a un daño; es decir, tiene que ver con el futuro, con la necesidad de prever y anticiparnos antes de cierta contingencia."
   ]
  },
  {
   "cell_type": "markdown",
   "metadata": {},
   "source": [
    "- En el contexto de las finanzas, cuando hablamos de riesgo nos estamos refiriendo a la posibilidad de pérdida o ganancia debido a los cambios sobre los factores que afectan el valor de un activo. Por esa razón, es importante que se identifiquen, se midan, se controlen, y se haga un monitoreo de los diversos tipos de riesgo a los que están expuestos los inversores en los mercados de capitales."
   ]
  },
  {
   "cell_type": "markdown",
   "metadata": {},
   "source": [
    "- Por lo general, el riesgo se percibe como una exposición a eventos negativos; no obstante, el riesgo bien manejado representa una gran oportunidad de obtener rentabilidades significativas en los portafolios financieros. En este sentido, y con una visión positiva, el riesgo financiero es más considerado como una “oportunidad de ganar” que como una “posibilidad de perder”.\n",
    "___"
   ]
  },
  {
   "cell_type": "markdown",
   "metadata": {},
   "source": [
    "### Apuntes históricos\n",
    "\n",
    "Históricamente se pueden identificar tres periodos relevantes en cuanto al desarrollo de las finanzas modernas:\n",
    "\n",
    "1. **Modelo de media-varianza (Markowitz, 1952-1956)**\n",
    " - Antes de esto el riesgo financiero era considerado como un *factor de corrección* entre el retorno esperado de una inversión y el retorno real. De modo que no se podía definir el \"riesgo\" sino hasta que se tenía el resultado de la decisión de inversión. Markowitz propuso como medidas de riesgo la varianza (para inversiones individuales) y la covarianza (para portafolios). Con esta forma de medir el riesgo se pudo optimizar...\n",
    "\n",
    "2. **Modelos en tiempo continuo (Merton, Black, Scholes, 1969-1973)**\n",
    " - Estos modelos fueron un gran paso teórico que se evidenciaron prácticamente con la introducción de los instrumentos derivados, puesto que permitieron su valuación.\n",
    " \n",
    "3. **Medidas de riesgo (Artzner, 1997-1999)**\n",
    " - Desarrollos que pretenden modelar situaciones más reales como sesgo, colas anchas, etcétera."
   ]
  },
  {
   "cell_type": "markdown",
   "metadata": {},
   "source": [
    "## 1. Value-at-Risk (VaR)\n",
    "\n",
    "Dado un horizonte temporal $T$ y un nivel de confianza $100 \\alpha \\%$, el **VaR** es la pérdida máxima respecto al rendimiento esperado sobre el horizonte temporal $T$ que sólo es superada con una probabilidad $1 − \\alpha$.\n"
   ]
  },
  {
   "cell_type": "code",
   "execution_count": null,
   "metadata": {
    "collapsed": true
   },
   "outputs": [],
   "source": []
  },
  {
   "cell_type": "code",
   "execution_count": null,
   "metadata": {
    "collapsed": true
   },
   "outputs": [],
   "source": []
  },
  {
   "cell_type": "code",
   "execution_count": null,
   "metadata": {
    "collapsed": true
   },
   "outputs": [],
   "source": []
  },
  {
   "cell_type": "code",
   "execution_count": null,
   "metadata": {
    "collapsed": true
   },
   "outputs": [],
   "source": []
  },
  {
   "cell_type": "code",
   "execution_count": null,
   "metadata": {
    "collapsed": true
   },
   "outputs": [],
   "source": []
  },
  {
   "cell_type": "code",
   "execution_count": null,
   "metadata": {
    "collapsed": true
   },
   "outputs": [],
   "source": []
  },
  {
   "cell_type": "code",
   "execution_count": null,
   "metadata": {
    "collapsed": true
   },
   "outputs": [],
   "source": []
  },
  {
   "cell_type": "code",
   "execution_count": null,
   "metadata": {
    "collapsed": true
   },
   "outputs": [],
   "source": []
  },
  {
   "cell_type": "code",
   "execution_count": null,
   "metadata": {
    "collapsed": true
   },
   "outputs": [],
   "source": []
  },
  {
   "cell_type": "code",
   "execution_count": null,
   "metadata": {
    "collapsed": true
   },
   "outputs": [],
   "source": []
  }
 ],
 "metadata": {
  "kernelspec": {
   "display_name": "Python 3",
   "language": "python",
   "name": "python3"
  },
  "language_info": {
   "codemirror_mode": {
    "name": "ipython",
    "version": 3
   },
   "file_extension": ".py",
   "mimetype": "text/x-python",
   "name": "python",
   "nbconvert_exporter": "python",
   "pygments_lexer": "ipython3",
   "version": "3.6.2"
  }
 },
 "nbformat": 4,
 "nbformat_minor": 2
}
